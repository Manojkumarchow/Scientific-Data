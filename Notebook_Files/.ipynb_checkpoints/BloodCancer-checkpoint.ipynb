{
 "cells": [
  {
   "cell_type": "code",
   "execution_count": 2,
   "metadata": {
    "colab": {},
    "colab_type": "code",
    "id": "qLAA3myQ_xEu"
   },
   "outputs": [],
   "source": [
    "#import the dependencies\n",
    "import pandas as  pd\n",
    "from sklearn.model_selection import train_test_split\n",
    "from sklearn.ensemble import RandomForestClassifier\n",
    "from sklearn.svm import SVC\n",
    "from sklearn.naive_bayes import GaussianNB\n",
    "from sklearn.neighbors import KNeighborsClassifier\n",
    "from sklearn.tree import DecisionTreeClassifier\n",
    "from sklearn.ensemble import AdaBoostClassifier\n",
    "from sklearn.ensemble import GradientBoostingClassifier\n",
    "import sklearn.metrics as metrics\n",
    "import warnings\n",
    "warnings.filterwarnings('ignore')"
   ]
  },
  {
   "cell_type": "code",
   "execution_count": 3,
   "metadata": {
    "colab": {},
    "colab_type": "code",
    "id": "ERd_RX_N_xFB"
   },
   "outputs": [
    {
     "ename": "FileNotFoundError",
     "evalue": "[Errno 2] File b'breast_cancer.csv' does not exist: b'breast_cancer.csv'",
     "output_type": "error",
     "traceback": [
      "\u001b[1;31m---------------------------------------------------------------------------\u001b[0m",
      "\u001b[1;31mFileNotFoundError\u001b[0m                         Traceback (most recent call last)",
      "\u001b[1;32m<ipython-input-3-543dbb25c52c>\u001b[0m in \u001b[0;36m<module>\u001b[1;34m\u001b[0m\n\u001b[0;32m      1\u001b[0m \u001b[1;31m# data = pd.read_csv('diabetes.csv')\u001b[0m\u001b[1;33m\u001b[0m\u001b[1;33m\u001b[0m\u001b[1;33m\u001b[0m\u001b[0m\n\u001b[1;32m----> 2\u001b[1;33m \u001b[0mdata\u001b[0m \u001b[1;33m=\u001b[0m \u001b[0mpd\u001b[0m\u001b[1;33m.\u001b[0m\u001b[0mread_csv\u001b[0m\u001b[1;33m(\u001b[0m\u001b[1;34m'breast_cancer.csv'\u001b[0m\u001b[1;33m)\u001b[0m\u001b[1;33m\u001b[0m\u001b[1;33m\u001b[0m\u001b[0m\n\u001b[0m\u001b[0;32m      3\u001b[0m \u001b[1;31m# data = pd.read_csv('blood_cancer.csv')\u001b[0m\u001b[1;33m\u001b[0m\u001b[1;33m\u001b[0m\u001b[1;33m\u001b[0m\u001b[0m\n\u001b[0;32m      4\u001b[0m \u001b[1;31m# data = pd.read_csv('heart.csv')\u001b[0m\u001b[1;33m\u001b[0m\u001b[1;33m\u001b[0m\u001b[1;33m\u001b[0m\u001b[0m\n\u001b[0;32m      5\u001b[0m \u001b[1;31m# data = pd.read_csv('lung_cancer.csv')\u001b[0m\u001b[1;33m\u001b[0m\u001b[1;33m\u001b[0m\u001b[1;33m\u001b[0m\u001b[0m\n",
      "\u001b[1;32m~\\Anaconda3\\lib\\site-packages\\pandas\\io\\parsers.py\u001b[0m in \u001b[0;36mparser_f\u001b[1;34m(filepath_or_buffer, sep, delimiter, header, names, index_col, usecols, squeeze, prefix, mangle_dupe_cols, dtype, engine, converters, true_values, false_values, skipinitialspace, skiprows, skipfooter, nrows, na_values, keep_default_na, na_filter, verbose, skip_blank_lines, parse_dates, infer_datetime_format, keep_date_col, date_parser, dayfirst, iterator, chunksize, compression, thousands, decimal, lineterminator, quotechar, quoting, doublequote, escapechar, comment, encoding, dialect, tupleize_cols, error_bad_lines, warn_bad_lines, delim_whitespace, low_memory, memory_map, float_precision)\u001b[0m\n\u001b[0;32m    700\u001b[0m                     skip_blank_lines=skip_blank_lines)\n\u001b[0;32m    701\u001b[0m \u001b[1;33m\u001b[0m\u001b[0m\n\u001b[1;32m--> 702\u001b[1;33m         \u001b[1;32mreturn\u001b[0m \u001b[0m_read\u001b[0m\u001b[1;33m(\u001b[0m\u001b[0mfilepath_or_buffer\u001b[0m\u001b[1;33m,\u001b[0m \u001b[0mkwds\u001b[0m\u001b[1;33m)\u001b[0m\u001b[1;33m\u001b[0m\u001b[1;33m\u001b[0m\u001b[0m\n\u001b[0m\u001b[0;32m    703\u001b[0m \u001b[1;33m\u001b[0m\u001b[0m\n\u001b[0;32m    704\u001b[0m     \u001b[0mparser_f\u001b[0m\u001b[1;33m.\u001b[0m\u001b[0m__name__\u001b[0m \u001b[1;33m=\u001b[0m \u001b[0mname\u001b[0m\u001b[1;33m\u001b[0m\u001b[1;33m\u001b[0m\u001b[0m\n",
      "\u001b[1;32m~\\Anaconda3\\lib\\site-packages\\pandas\\io\\parsers.py\u001b[0m in \u001b[0;36m_read\u001b[1;34m(filepath_or_buffer, kwds)\u001b[0m\n\u001b[0;32m    427\u001b[0m \u001b[1;33m\u001b[0m\u001b[0m\n\u001b[0;32m    428\u001b[0m     \u001b[1;31m# Create the parser.\u001b[0m\u001b[1;33m\u001b[0m\u001b[1;33m\u001b[0m\u001b[1;33m\u001b[0m\u001b[0m\n\u001b[1;32m--> 429\u001b[1;33m     \u001b[0mparser\u001b[0m \u001b[1;33m=\u001b[0m \u001b[0mTextFileReader\u001b[0m\u001b[1;33m(\u001b[0m\u001b[0mfilepath_or_buffer\u001b[0m\u001b[1;33m,\u001b[0m \u001b[1;33m**\u001b[0m\u001b[0mkwds\u001b[0m\u001b[1;33m)\u001b[0m\u001b[1;33m\u001b[0m\u001b[1;33m\u001b[0m\u001b[0m\n\u001b[0m\u001b[0;32m    430\u001b[0m \u001b[1;33m\u001b[0m\u001b[0m\n\u001b[0;32m    431\u001b[0m     \u001b[1;32mif\u001b[0m \u001b[0mchunksize\u001b[0m \u001b[1;32mor\u001b[0m \u001b[0miterator\u001b[0m\u001b[1;33m:\u001b[0m\u001b[1;33m\u001b[0m\u001b[1;33m\u001b[0m\u001b[0m\n",
      "\u001b[1;32m~\\Anaconda3\\lib\\site-packages\\pandas\\io\\parsers.py\u001b[0m in \u001b[0;36m__init__\u001b[1;34m(self, f, engine, **kwds)\u001b[0m\n\u001b[0;32m    893\u001b[0m             \u001b[0mself\u001b[0m\u001b[1;33m.\u001b[0m\u001b[0moptions\u001b[0m\u001b[1;33m[\u001b[0m\u001b[1;34m'has_index_names'\u001b[0m\u001b[1;33m]\u001b[0m \u001b[1;33m=\u001b[0m \u001b[0mkwds\u001b[0m\u001b[1;33m[\u001b[0m\u001b[1;34m'has_index_names'\u001b[0m\u001b[1;33m]\u001b[0m\u001b[1;33m\u001b[0m\u001b[1;33m\u001b[0m\u001b[0m\n\u001b[0;32m    894\u001b[0m \u001b[1;33m\u001b[0m\u001b[0m\n\u001b[1;32m--> 895\u001b[1;33m         \u001b[0mself\u001b[0m\u001b[1;33m.\u001b[0m\u001b[0m_make_engine\u001b[0m\u001b[1;33m(\u001b[0m\u001b[0mself\u001b[0m\u001b[1;33m.\u001b[0m\u001b[0mengine\u001b[0m\u001b[1;33m)\u001b[0m\u001b[1;33m\u001b[0m\u001b[1;33m\u001b[0m\u001b[0m\n\u001b[0m\u001b[0;32m    896\u001b[0m \u001b[1;33m\u001b[0m\u001b[0m\n\u001b[0;32m    897\u001b[0m     \u001b[1;32mdef\u001b[0m \u001b[0mclose\u001b[0m\u001b[1;33m(\u001b[0m\u001b[0mself\u001b[0m\u001b[1;33m)\u001b[0m\u001b[1;33m:\u001b[0m\u001b[1;33m\u001b[0m\u001b[1;33m\u001b[0m\u001b[0m\n",
      "\u001b[1;32m~\\Anaconda3\\lib\\site-packages\\pandas\\io\\parsers.py\u001b[0m in \u001b[0;36m_make_engine\u001b[1;34m(self, engine)\u001b[0m\n\u001b[0;32m   1120\u001b[0m     \u001b[1;32mdef\u001b[0m \u001b[0m_make_engine\u001b[0m\u001b[1;33m(\u001b[0m\u001b[0mself\u001b[0m\u001b[1;33m,\u001b[0m \u001b[0mengine\u001b[0m\u001b[1;33m=\u001b[0m\u001b[1;34m'c'\u001b[0m\u001b[1;33m)\u001b[0m\u001b[1;33m:\u001b[0m\u001b[1;33m\u001b[0m\u001b[1;33m\u001b[0m\u001b[0m\n\u001b[0;32m   1121\u001b[0m         \u001b[1;32mif\u001b[0m \u001b[0mengine\u001b[0m \u001b[1;33m==\u001b[0m \u001b[1;34m'c'\u001b[0m\u001b[1;33m:\u001b[0m\u001b[1;33m\u001b[0m\u001b[1;33m\u001b[0m\u001b[0m\n\u001b[1;32m-> 1122\u001b[1;33m             \u001b[0mself\u001b[0m\u001b[1;33m.\u001b[0m\u001b[0m_engine\u001b[0m \u001b[1;33m=\u001b[0m \u001b[0mCParserWrapper\u001b[0m\u001b[1;33m(\u001b[0m\u001b[0mself\u001b[0m\u001b[1;33m.\u001b[0m\u001b[0mf\u001b[0m\u001b[1;33m,\u001b[0m \u001b[1;33m**\u001b[0m\u001b[0mself\u001b[0m\u001b[1;33m.\u001b[0m\u001b[0moptions\u001b[0m\u001b[1;33m)\u001b[0m\u001b[1;33m\u001b[0m\u001b[1;33m\u001b[0m\u001b[0m\n\u001b[0m\u001b[0;32m   1123\u001b[0m         \u001b[1;32melse\u001b[0m\u001b[1;33m:\u001b[0m\u001b[1;33m\u001b[0m\u001b[1;33m\u001b[0m\u001b[0m\n\u001b[0;32m   1124\u001b[0m             \u001b[1;32mif\u001b[0m \u001b[0mengine\u001b[0m \u001b[1;33m==\u001b[0m \u001b[1;34m'python'\u001b[0m\u001b[1;33m:\u001b[0m\u001b[1;33m\u001b[0m\u001b[1;33m\u001b[0m\u001b[0m\n",
      "\u001b[1;32m~\\Anaconda3\\lib\\site-packages\\pandas\\io\\parsers.py\u001b[0m in \u001b[0;36m__init__\u001b[1;34m(self, src, **kwds)\u001b[0m\n\u001b[0;32m   1851\u001b[0m         \u001b[0mkwds\u001b[0m\u001b[1;33m[\u001b[0m\u001b[1;34m'usecols'\u001b[0m\u001b[1;33m]\u001b[0m \u001b[1;33m=\u001b[0m \u001b[0mself\u001b[0m\u001b[1;33m.\u001b[0m\u001b[0musecols\u001b[0m\u001b[1;33m\u001b[0m\u001b[1;33m\u001b[0m\u001b[0m\n\u001b[0;32m   1852\u001b[0m \u001b[1;33m\u001b[0m\u001b[0m\n\u001b[1;32m-> 1853\u001b[1;33m         \u001b[0mself\u001b[0m\u001b[1;33m.\u001b[0m\u001b[0m_reader\u001b[0m \u001b[1;33m=\u001b[0m \u001b[0mparsers\u001b[0m\u001b[1;33m.\u001b[0m\u001b[0mTextReader\u001b[0m\u001b[1;33m(\u001b[0m\u001b[0msrc\u001b[0m\u001b[1;33m,\u001b[0m \u001b[1;33m**\u001b[0m\u001b[0mkwds\u001b[0m\u001b[1;33m)\u001b[0m\u001b[1;33m\u001b[0m\u001b[1;33m\u001b[0m\u001b[0m\n\u001b[0m\u001b[0;32m   1854\u001b[0m         \u001b[0mself\u001b[0m\u001b[1;33m.\u001b[0m\u001b[0munnamed_cols\u001b[0m \u001b[1;33m=\u001b[0m \u001b[0mself\u001b[0m\u001b[1;33m.\u001b[0m\u001b[0m_reader\u001b[0m\u001b[1;33m.\u001b[0m\u001b[0munnamed_cols\u001b[0m\u001b[1;33m\u001b[0m\u001b[1;33m\u001b[0m\u001b[0m\n\u001b[0;32m   1855\u001b[0m \u001b[1;33m\u001b[0m\u001b[0m\n",
      "\u001b[1;32mpandas/_libs/parsers.pyx\u001b[0m in \u001b[0;36mpandas._libs.parsers.TextReader.__cinit__\u001b[1;34m()\u001b[0m\n",
      "\u001b[1;32mpandas/_libs/parsers.pyx\u001b[0m in \u001b[0;36mpandas._libs.parsers.TextReader._setup_parser_source\u001b[1;34m()\u001b[0m\n",
      "\u001b[1;31mFileNotFoundError\u001b[0m: [Errno 2] File b'breast_cancer.csv' does not exist: b'breast_cancer.csv'"
     ]
    }
   ],
   "source": [
    "# data = pd.read_csv('diabetes.csv')\n",
    "data = pd.read_csv('breast_cancer.csv')\n",
    "# data = pd.read_csv('blood_cancer.csv')\n",
    "# data = pd.read_csv('heart.csv')\n",
    "# data = pd.read_csv('lung_cancer.csv')\n",
    "# data = pd.read_csv('ThoraricSurgery.csv')"
   ]
  },
  {
   "cell_type": "code",
   "execution_count": null,
   "metadata": {
    "colab": {
     "base_uri": "https://localhost:8080/",
     "height": 204
    },
    "colab_type": "code",
    "id": "oLPkKFVJ_xFL",
    "outputId": "ff1b67f3-8185-4756-88ff-29495a784c5c"
   },
   "outputs": [],
   "source": [
    "data.head()"
   ]
  },
  {
   "cell_type": "code",
   "execution_count": null,
   "metadata": {
    "colab": {
     "base_uri": "https://localhost:8080/",
     "height": 297
    },
    "colab_type": "code",
    "id": "6dDoETp-_xFV",
    "outputId": "04357d77-5357-4ac4-b468-8ee20338f131"
   },
   "outputs": [],
   "source": [
    "#encoding\n",
    "from sklearn.preprocessing import LabelEncoder\n",
    "number = LabelEncoder()\n",
    "for i in data.columns:\n",
    "    data[i] = number.fit_transform(data[i])\n",
    "    data=data.fillna(-999)"
   ]
  },
  {
   "cell_type": "code",
   "execution_count": null,
   "metadata": {
    "colab": {
     "base_uri": "https://localhost:8080/",
     "height": 187
    },
    "colab_type": "code",
    "id": "L9_wLkCS_xFd",
    "outputId": "f7e09dc2-c52f-4efb-cefc-a956a8d076b0"
   },
   "outputs": [],
   "source": [
    "data.head()"
   ]
  },
  {
   "cell_type": "code",
   "execution_count": null,
   "metadata": {
    "colab": {
     "base_uri": "https://localhost:8080/",
     "height": 34
    },
    "colab_type": "code",
    "id": "rqq2Hjor_xFk",
    "outputId": "1638bf0c-0f2a-4f3d-a9d2-4f9217e70b90"
   },
   "outputs": [],
   "source": [
    "# print(data.columns)"
   ]
  },
  {
   "cell_type": "code",
   "execution_count": null,
   "metadata": {
    "colab": {
     "base_uri": "https://localhost:8080/",
     "height": 34
    },
    "colab_type": "code",
    "id": "dIleKDZJ_xFp",
    "outputId": "dd670c56-cbf8-4867-b421-569f44141005"
   },
   "outputs": [],
   "source": [
    "print(data.shape)"
   ]
  },
  {
   "cell_type": "code",
   "execution_count": null,
   "metadata": {
    "colab": {},
    "colab_type": "code",
    "id": "85Ma7jXA_xFu"
   },
   "outputs": [],
   "source": [
    "# y --> target class label\n",
    "# x --> features\n",
    "y = data['1']\n",
    "x = data.drop('1', axis=1)"
   ]
  },
  {
   "cell_type": "code",
   "execution_count": null,
   "metadata": {
    "colab": {
     "base_uri": "https://localhost:8080/",
     "height": 51
    },
    "colab_type": "code",
    "id": "VaROyqN4_xFy",
    "outputId": "b6333d86-0009-4510-bfc7-e06dbe9fc98e"
   },
   "outputs": [],
   "source": [
    "x_train, x_test, y_train, y_test = train_test_split(x, y, test_size=0.05)\n",
    "print(x_train.shape)\n",
    "print(x_test.shape)\n",
    "# print(x_train)\n",
    "# print(y_train)"
   ]
  },
  {
   "cell_type": "code",
   "execution_count": null,
   "metadata": {
    "colab": {},
    "colab_type": "code",
    "id": "WJumB6qK_xF5"
   },
   "outputs": [],
   "source": [
    "#Random Forest Classifier\n",
    "rf = RandomForestClassifier(n_estimators = 1000, random_state=7)\n",
    "sv = SVC(kernel='linear')\n",
    "abc = AdaBoostClassifier(n_estimators=100)\n",
    "gbc = GradientBoostingClassifier(n_estimators=290)\n",
    "dt = DecisionTreeClassifier(max_depth=3, min_samples_split=2)\n",
    "knn = KNeighborsClassifier(n_neighbors=3)\n",
    "gnb = GaussianNB()"
   ]
  },
  {
   "cell_type": "code",
   "execution_count": null,
   "metadata": {
    "colab": {
     "base_uri": "https://localhost:8080/",
     "height": 34
    },
    "colab_type": "code",
    "id": "TyuVjh2T_xF-",
    "outputId": "07e5b85a-bfd6-479f-dec4-5f8f3612d2bd"
   },
   "outputs": [],
   "source": [
    "import time\n",
    "t0=time.time()\n",
    "rf.fit(x_train, y_train) #training\n",
    "print(\"Training Time for Random Forest Classifier:\", round(time.time()-t0, 3), \"s\")"
   ]
  },
  {
   "cell_type": "code",
   "execution_count": null,
   "metadata": {
    "colab": {
     "base_uri": "https://localhost:8080/",
     "height": 34
    },
    "colab_type": "code",
    "id": "muHMDDDR_xGC",
    "outputId": "517206ec-61f5-4dc3-d3b3-8f7d6ec4f31d"
   },
   "outputs": [],
   "source": [
    "t0=time.time()\n",
    "sv.fit(x_train, y_train)\n",
    "print(\"Training Time for Support Vector Machine:\", round(time.time()-t0, 3), \"s\")"
   ]
  },
  {
   "cell_type": "code",
   "execution_count": null,
   "metadata": {
    "colab": {
     "base_uri": "https://localhost:8080/",
     "height": 34
    },
    "colab_type": "code",
    "id": "BpjGRlFB_xGH",
    "outputId": "d7212302-5f6e-4f51-d0b7-5008f53c1294"
   },
   "outputs": [],
   "source": [
    "t0=time.time()\n",
    "abc.fit(x_train, y_train)\n",
    "print(\"Training Time AdaBoost Classifier:\", round(time.time()-t0, 3), \"s\")"
   ]
  },
  {
   "cell_type": "code",
   "execution_count": null,
   "metadata": {
    "colab": {
     "base_uri": "https://localhost:8080/",
     "height": 34
    },
    "colab_type": "code",
    "id": "BNFDFLB2_xGL",
    "outputId": "486713e5-48ba-446b-dcd6-29efe2dbcb43"
   },
   "outputs": [],
   "source": [
    "t0=time.time()\n",
    "gbc.fit(x_train, y_train)\n",
    "print(\"Training Time for Gradient Boosting Classifier:\", round(time.time()-t0, 3), \"s\")"
   ]
  },
  {
   "cell_type": "code",
   "execution_count": null,
   "metadata": {
    "colab": {
     "base_uri": "https://localhost:8080/",
     "height": 34
    },
    "colab_type": "code",
    "id": "eanhcTcd_xGP",
    "outputId": "504b72b5-549a-48a6-c7a0-0a98d7449b82"
   },
   "outputs": [],
   "source": [
    "t0=time.time()\n",
    "dt.fit(x_train, y_train)\n",
    "print(\"Training Time for Decision Tree Classifier:\", round(time.time()-t0, 3), \"s\")"
   ]
  },
  {
   "cell_type": "code",
   "execution_count": null,
   "metadata": {
    "colab": {
     "base_uri": "https://localhost:8080/",
     "height": 34
    },
    "colab_type": "code",
    "id": "5tD5kuBW_xGU",
    "outputId": "82979bf0-c8c7-45e5-c4d3-28817961d6dd"
   },
   "outputs": [],
   "source": [
    "t0=time.time()\n",
    "knn.fit(x_train, y_train)\n",
    "print(\"Training Time for K-NN Classifier:\", round(time.time()-t0, 3), \"s\")"
   ]
  },
  {
   "cell_type": "code",
   "execution_count": null,
   "metadata": {
    "colab": {
     "base_uri": "https://localhost:8080/",
     "height": 34
    },
    "colab_type": "code",
    "id": "hHfVynMJ_xGZ",
    "outputId": "1ed337f0-24b0-4ecd-e9e9-eaefcdedc14f"
   },
   "outputs": [],
   "source": [
    "t0=time.time()\n",
    "gnb.fit(x_train, y_train)\n",
    "print(\"Training Time for Naive Bayes Classifier:\", round(time.time()-t0, 3), \"s\")"
   ]
  },
  {
   "cell_type": "code",
   "execution_count": null,
   "metadata": {
    "colab": {
     "base_uri": "https://localhost:8080/",
     "height": 51
    },
    "colab_type": "code",
    "id": "_btuUTAw_xGd",
    "outputId": "52f9e682-7e38-4d98-85ca-7c242e0612d3"
   },
   "outputs": [],
   "source": [
    "import time\n",
    "t1 = time.time()\n",
    "predict = rf.predict(x_test)\n",
    "print(\"Testing Time for Random Forest Classifier:\", round(time.time()-t1, 3), \"s\")\n",
    "accuracy = metrics.accuracy_score(y_test, predict)\n",
    "print(\"Accuracy: \", accuracy*100)"
   ]
  },
  {
   "cell_type": "code",
   "execution_count": null,
   "metadata": {
    "colab": {
     "base_uri": "https://localhost:8080/",
     "height": 51
    },
    "colab_type": "code",
    "id": "sCxFGOEq_xGg",
    "outputId": "5d08a18b-e813-4cff-dd37-9890cc47a436"
   },
   "outputs": [],
   "source": [
    "t1 = time.time()\n",
    "predict = sv.predict(x_test)\n",
    "print(\"Testing Time for Support Vector Machine:\", round(time.time()-t0, 3), \"s\")\n",
    "accuracy = metrics.accuracy_score(y_test, predict)\n",
    "print(\"Accuracy: \", accuracy*100)"
   ]
  },
  {
   "cell_type": "code",
   "execution_count": null,
   "metadata": {
    "colab": {
     "base_uri": "https://localhost:8080/",
     "height": 51
    },
    "colab_type": "code",
    "id": "zvbnUfgy_xGl",
    "outputId": "aa4565a3-7eee-4b60-f98e-be29114b6f9a"
   },
   "outputs": [],
   "source": [
    "t1 = time.time()\n",
    "predict = abc.predict(x_test)\n",
    "print(\"Testing Time for AdaBoost Classifier:\", round(time.time()-t1, 3), \"s\")\n",
    "accuracy = metrics.accuracy_score(y_test, predict)\n",
    "print(\"Accuracy: \", accuracy*100)"
   ]
  },
  {
   "cell_type": "code",
   "execution_count": null,
   "metadata": {
    "colab": {
     "base_uri": "https://localhost:8080/",
     "height": 51
    },
    "colab_type": "code",
    "id": "Y74eSMlF_xGp",
    "outputId": "02c53fa6-e9a3-4408-d0f9-ae3c37c86699"
   },
   "outputs": [],
   "source": [
    "t1 = time.time()\n",
    "predict = gbc.predict(x_test)\n",
    "print(\"Testing Time for Gradient Boosting Classifier:\", round(time.time()-t1, 3), \"s\")\n",
    "accuracy = metrics.accuracy_score(y_test, predict)\n",
    "print(\"Accuracy: \", accuracy*100)"
   ]
  },
  {
   "cell_type": "code",
   "execution_count": null,
   "metadata": {
    "colab": {
     "base_uri": "https://localhost:8080/",
     "height": 51
    },
    "colab_type": "code",
    "id": "XTBwQIZp_xGs",
    "outputId": "6963b152-dc5a-4a4e-f8c2-4edc9364d893"
   },
   "outputs": [],
   "source": [
    "t1 = time.time()\n",
    "predict = dt.predict(x_test)\n",
    "print(\"Testing Time for Decision Tree Classifier:\", round(time.time()-t1, 3), \"s\")\n",
    "accuracy = metrics.accuracy_score(y_test, predict)\n",
    "print(\"Accuracy: \", accuracy*100)"
   ]
  },
  {
   "cell_type": "code",
   "execution_count": null,
   "metadata": {
    "colab": {
     "base_uri": "https://localhost:8080/",
     "height": 51
    },
    "colab_type": "code",
    "id": "TKbgVq0I_xGv",
    "outputId": "a69995b4-fc56-4c9d-b5c9-8fbd7ee77b36"
   },
   "outputs": [],
   "source": [
    "t1 = time.time()\n",
    "predict = knn.predict(x_test)\n",
    "print(\"Testing Time for K-NN Classifier:\", round(time.time()-t1, 3), \"s\")\n",
    "accuracy = metrics.accuracy_score(y_test, predict)\n",
    "print(\"Accuracy: \", accuracy*100)"
   ]
  },
  {
   "cell_type": "code",
   "execution_count": null,
   "metadata": {
    "colab": {
     "base_uri": "https://localhost:8080/",
     "height": 51
    },
    "colab_type": "code",
    "id": "A9wMYz69_xGy",
    "outputId": "486265c6-c390-4662-c63f-b5cce74ec1c3"
   },
   "outputs": [],
   "source": [
    "t1 = time.time()\n",
    "predict = gnb.predict(x_test)\n",
    "print(\"Testing Time for Naive Bayes Classifier:\", round(time.time()-t1, 3), \"s\")\n",
    "accuracy = metrics.accuracy_score(y_test, predict)\n",
    "print(\"Accuracy: \", accuracy*100)"
   ]
  },
  {
   "cell_type": "code",
   "execution_count": null,
   "metadata": {
    "colab": {},
    "colab_type": "code",
    "id": "IOrlLTEt_xG1"
   },
   "outputs": [],
   "source": [
    "from sklearn.ensemble import VotingClassifier\n",
    "#create a dictionary of our models\n",
    "estimators_1=[('knn', knn), ('rf', rf)]\n",
    "#create our voting classifier, inputting our models\n",
    "ensemble_1 = VotingClassifier(estimators_1, voting='hard')"
   ]
  },
  {
   "cell_type": "code",
   "execution_count": null,
   "metadata": {
    "colab": {},
    "colab_type": "code",
    "id": "7C9n-bcG_xG4"
   },
   "outputs": [],
   "source": [
    "estimators_2=[('svm', sv), ('rf', rf)]\n",
    "ensemble_2 = VotingClassifier(estimators_2, voting='hard')"
   ]
  },
  {
   "cell_type": "code",
   "execution_count": null,
   "metadata": {
    "colab": {},
    "colab_type": "code",
    "id": "G1IZ493T_xG7"
   },
   "outputs": [],
   "source": [
    "estimators_3=[('knn', knn), ('svm', sv)]\n",
    "ensemble_3 = VotingClassifier(estimators_3, voting='hard')"
   ]
  },
  {
   "cell_type": "code",
   "execution_count": null,
   "metadata": {
    "colab": {},
    "colab_type": "code",
    "id": "JUwspsMr_xG-"
   },
   "outputs": [],
   "source": [
    "estimators_4=[('adb', abc), ('gdc', gbc)]\n",
    "ensemble_4 = VotingClassifier(estimators_4, voting='hard')"
   ]
  },
  {
   "cell_type": "code",
   "execution_count": null,
   "metadata": {
    "colab": {},
    "colab_type": "code",
    "id": "NWRXA1t5_xHA"
   },
   "outputs": [],
   "source": [
    "estimators_5=[('svm', sv), ('adb', abc)]\n",
    "ensemble_5 = VotingClassifier(estimators_5, voting='hard')"
   ]
  },
  {
   "cell_type": "code",
   "execution_count": null,
   "metadata": {
    "colab": {
     "base_uri": "https://localhost:8080/",
     "height": 68
    },
    "colab_type": "code",
    "id": "EHoTPx1I_xHD",
    "outputId": "fcf99d04-a08c-4435-a341-f826198e4165"
   },
   "outputs": [],
   "source": [
    "#fit model to training data\n",
    "t0 = time.time()\n",
    "ensemble_1.fit(x_train, y_train)\n",
    "print(\"Training time:\", round(time.time()-t0, 3), \"s\")\n",
    "#test our model on the test data\n",
    "# print(ensemble.score(x_test, y_test))\n",
    "t1 = time.time()\n",
    "predict = ensemble_1.predict(x_test)\n",
    "print(\"Testing Time for Ensemble Classifier:\", round(time.time()-t1, 3), \"s\")\n",
    "accuracy = metrics.accuracy_score(y_test, predict)\n",
    "print(\"Accuracy: \", accuracy*100)"
   ]
  },
  {
   "cell_type": "code",
   "execution_count": null,
   "metadata": {
    "colab": {
     "base_uri": "https://localhost:8080/",
     "height": 68
    },
    "colab_type": "code",
    "id": "XXN-V5Wa_xHI",
    "outputId": "42dedd42-aedb-4fe6-db6e-f9bdd3931571"
   },
   "outputs": [],
   "source": [
    "#fit model to training data\n",
    "t0 = time.time()\n",
    "ensemble_2.fit(x_train, y_train)\n",
    "print(\"Training time:\", round(time.time()-t0, 3), \"s\")\n",
    "#test our model on the test data\n",
    "# print(ensemble.score(x_test, y_test))\n",
    "t1 = time.time()\n",
    "predict = ensemble_2.predict(x_test)\n",
    "print(\"Testing Time for Ensemble Classifier:\", round(time.time()-t1, 3), \"s\")\n",
    "accuracy = metrics.accuracy_score(y_test, predict)\n",
    "print(\"Accuracy: \", accuracy*100)"
   ]
  },
  {
   "cell_type": "code",
   "execution_count": null,
   "metadata": {
    "colab": {
     "base_uri": "https://localhost:8080/",
     "height": 68
    },
    "colab_type": "code",
    "id": "74VVsKgD_xHM",
    "outputId": "fb2c7b4f-0481-4874-da70-d735fef4cb3e"
   },
   "outputs": [],
   "source": [
    "#fit model to training data\n",
    "t0 = time.time()\n",
    "ensemble_3.fit(x_train, y_train)\n",
    "print(\"Training time:\", round(time.time()-t0, 3), \"s\")\n",
    "#test our model on the test data\n",
    "# print(ensemble.score(x_test, y_test))\n",
    "t1 = time.time()\n",
    "predict = ensemble_3.predict(x_test)\n",
    "print(\"Testing Time for Ensemble Classifier:\", round(time.time()-t1, 3), \"s\")\n",
    "accuracy = metrics.accuracy_score(y_test, predict)\n",
    "print(\"Accuracy: \", accuracy * 100)"
   ]
  },
  {
   "cell_type": "code",
   "execution_count": null,
   "metadata": {
    "colab": {
     "base_uri": "https://localhost:8080/",
     "height": 68
    },
    "colab_type": "code",
    "id": "VW0lR4nK_xHO",
    "outputId": "a5cae19a-5274-4001-c146-2d9548f01a06"
   },
   "outputs": [],
   "source": [
    "#fit model to training data\n",
    "t0 = time.time()\n",
    "ensemble_4.fit(x_train, y_train)\n",
    "print(\"Training time:\", round(time.time()-t0, 3), \"s\")\n",
    "#test our model on the test data\n",
    "# print(ensemble.score(x_test, y_test))\n",
    "t1 = time.time()\n",
    "predict = ensemble_4.predict(x_test)\n",
    "print(\"Testing Time for Ensemble Classifier:\", round(time.time()-t1, 3), \"s\")\n",
    "accuracy = metrics.accuracy_score(y_test, predict)\n",
    "print(\"Accuracy: \", accuracy * 100)"
   ]
  },
  {
   "cell_type": "code",
   "execution_count": null,
   "metadata": {
    "colab": {
     "base_uri": "https://localhost:8080/",
     "height": 68
    },
    "colab_type": "code",
    "id": "AclhQiLc_xHS",
    "outputId": "4aebdf78-0ff6-46f3-8393-58a4f4c13fb7"
   },
   "outputs": [],
   "source": [
    "#fit model to training data\n",
    "t0 = time.time()\n",
    "ensemble_5.fit(x_train, y_train)\n",
    "print(\"Training time:\", round(time.time()-t0, 3), \"s\")\n",
    "#test our model on the test data\n",
    "# print(ensemble.score(x_test, y_test))\n",
    "t1 = time.time()\n",
    "predict = ensemble_5.predict(x_test)\n",
    "print(\"Testing Time for Ensemble Classifier:\", round(time.time()-t1, 3), \"s\")\n",
    "accuracy = metrics.accuracy_score(y_test, predict)\n",
    "print(\"Accuracy: \", accuracy * 100)"
   ]
  }
 ],
 "metadata": {
  "colab": {
   "name": "Telephone_Dataset.ipynb",
   "provenance": []
  },
  "kernelspec": {
   "display_name": "Python 3",
   "language": "python",
   "name": "python3"
  },
  "language_info": {
   "codemirror_mode": {
    "name": "ipython",
    "version": 3
   },
   "file_extension": ".py",
   "mimetype": "text/x-python",
   "name": "python",
   "nbconvert_exporter": "python",
   "pygments_lexer": "ipython3",
   "version": "3.7.3"
  }
 },
 "nbformat": 4,
 "nbformat_minor": 1
}
